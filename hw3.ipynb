{
  "nbformat": 4,
  "nbformat_minor": 0,
  "metadata": {
    "colab": {
      "name": "Копия_блокнота_\"HW_2_3_(chromhmm)_ipynb\".ipynb",
      "provenance": [],
      "collapsed_sections": []
    },
    "kernelspec": {
      "name": "python3",
      "display_name": "Python 3"
    },
    "language_info": {
      "name": "python"
    },
    "accelerator": "TPU"
  },
  "cells": [
    {
      "cell_type": "markdown",
      "source": [
        "## Устанавливаем java и ChromHmm"
      ],
      "metadata": {
        "id": "vRciyzvPEDLD"
      }
    },
    {
      "cell_type": "code",
      "source": [
        "!curl -O https://raw.githubusercontent.com/deepjavalibrary/d2l-java/master/tools/fix-colab-gpu.sh && bash fix-colab-gpu.sh"
      ],
      "metadata": {
        "colab": {
          "base_uri": "https://localhost:8080/"
        },
        "id": "1O3GJ3Gys7Tm",
        "outputId": "4d6dab39-0095-4bde-d05d-233699273df1"
      },
      "execution_count": null,
      "outputs": [
        {
          "output_type": "stream",
          "name": "stdout",
          "text": [
            "  % Total    % Received % Xferd  Average Speed   Time    Time     Time  Current\n",
            "                                 Dload  Upload   Total   Spent    Left  Speed\n",
            "\r  0     0    0     0    0     0      0      0 --:--:-- --:--:-- --:--:--     0\r100   155  100   155    0     0    906      0 --:--:-- --:--:-- --:--:--   911\n",
            "nvcc: NVIDIA (R) Cuda compiler driver\n",
            "Copyright (c) 2005-2019 NVIDIA Corporation\n",
            "Built on Sun_Jul_28_19:07:16_PDT_2019\n",
            "Cuda compilation tools, release 10.1, V10.1.243\n"
          ]
        }
      ]
    },
    {
      "cell_type": "code",
      "execution_count": null,
      "metadata": {
        "colab": {
          "base_uri": "https://localhost:8080/"
        },
        "id": "NxS1Mv5WquOV",
        "outputId": "29397a2c-e650-4afc-805a-78b344dcdb63"
      },
      "outputs": [
        {
          "output_type": "stream",
          "name": "stdout",
          "text": [
            "  % Total    % Received % Xferd  Average Speed   Time    Time     Time  Current\n",
            "                                 Dload  Upload   Total   Spent    Left  Speed\n",
            "100   520  100   520    0     0   2708      0 --:--:-- --:--:-- --:--:--  2708\n",
            "Update environment...\n",
            "Install Java...\n",
            "Install Jupyter java kernel...\n"
          ]
        }
      ],
      "source": [
        "!curl -O https://raw.githubusercontent.com/deepjavalibrary/d2l-java/master/tools/colab_build.sh && bash colab_build.sh"
      ]
    },
    {
      "cell_type": "code",
      "source": [
        "!java --list-modules | grep \"jdk.jshell\""
      ],
      "metadata": {
        "colab": {
          "base_uri": "https://localhost:8080/"
        },
        "id": "_NrPS924rQFX",
        "outputId": "c9d77fee-07da-424d-de67-d374de6a0438"
      },
      "execution_count": null,
      "outputs": [
        {
          "output_type": "stream",
          "name": "stdout",
          "text": [
            "jdk.jshell@11.0.15\n"
          ]
        }
      ]
    },
    {
      "cell_type": "code",
      "source": [
        "! wget http://compbio.mit.edu/ChromHMM/ChromHMM.zip"
      ],
      "metadata": {
        "colab": {
          "base_uri": "https://localhost:8080/"
        },
        "id": "zCdYYvCJrpRt",
        "outputId": "d41937f5-fedc-46b0-dadd-411dce813b88"
      },
      "execution_count": null,
      "outputs": [
        {
          "output_type": "stream",
          "name": "stdout",
          "text": [
            "--2022-03-26 19:46:38--  http://compbio.mit.edu/ChromHMM/ChromHMM.zip\n",
            "Resolving compbio.mit.edu (compbio.mit.edu)... 128.30.2.44\n",
            "Connecting to compbio.mit.edu (compbio.mit.edu)|128.30.2.44|:80... connected.\n",
            "HTTP request sent, awaiting response... 200 OK\n",
            "Length: 42396742 (40M) [application/zip]\n",
            "Saving to: ‘ChromHMM.zip’\n",
            "\n",
            "ChromHMM.zip        100%[===================>]  40.43M  11.2MB/s    in 3.6s    \n",
            "\n",
            "2022-03-26 19:46:42 (11.2 MB/s) - ‘ChromHMM.zip’ saved [42396742/42396742]\n",
            "\n"
          ]
        }
      ]
    },
    {
      "cell_type": "code",
      "source": [
        "!unzip /content/ChromHMM.zip"
      ],
      "metadata": {
        "id": "gF4uI2bvvEN2",
        "colab": {
          "base_uri": "https://localhost:8080/"
        },
        "outputId": "5e0a12cd-feef-4d36-aa1a-7374560548c0"
      },
      "execution_count": null,
      "outputs": [
        {
          "output_type": "stream",
          "name": "stdout",
          "text": [
            "Archive:  /content/ChromHMM.zip\n",
            "   creating: ChromHMM/ANCHORFILES/\n",
            "   creating: ChromHMM/ANCHORFILES/ce10/\n",
            "  inflating: ChromHMM/ANCHORFILES/ce10/RefSeqTES.ce10.txt.gz  \n",
            "  inflating: ChromHMM/ANCHORFILES/ce10/RefSeqTSS.ce10.txt.gz  \n",
            "   creating: ChromHMM/ANCHORFILES/ce11/\n",
            "  inflating: ChromHMM/ANCHORFILES/ce11/RefSeqTES.ce11.txt.gz  \n",
            "  inflating: ChromHMM/ANCHORFILES/ce11/RefSeqTSS.ce11.txt.gz  \n",
            "   creating: ChromHMM/ANCHORFILES/ce6/\n",
            "  inflating: ChromHMM/ANCHORFILES/ce6/RefSeqTES.ce6.txt.gz  \n",
            "  inflating: ChromHMM/ANCHORFILES/ce6/RefSeqTSS.ce6.txt.gz  \n",
            "   creating: ChromHMM/ANCHORFILES/danRer10/\n",
            "  inflating: ChromHMM/ANCHORFILES/danRer10/RefSeqTES.danRer10.txt.gz  \n",
            "  inflating: ChromHMM/ANCHORFILES/danRer10/RefSeqTSS.danRer10.txt.gz  \n",
            "   creating: ChromHMM/ANCHORFILES/danRer11/\n",
            "  inflating: ChromHMM/ANCHORFILES/danRer11/RefSeqTES.danRer11.txt.gz  \n",
            "  inflating: ChromHMM/ANCHORFILES/danRer11/RefSeqTSS.danRer11.txt.gz  \n",
            "   creating: ChromHMM/ANCHORFILES/danRer7/\n",
            "  inflating: ChromHMM/ANCHORFILES/danRer7/RefSeqTES.danRer7.txt.gz  \n",
            "  inflating: ChromHMM/ANCHORFILES/danRer7/RefSeqTSS.danRer7.txt.gz  \n",
            "   creating: ChromHMM/ANCHORFILES/dm3/\n",
            "  inflating: ChromHMM/ANCHORFILES/dm3/RefSeqTES.dm3.txt.gz  \n",
            "  inflating: ChromHMM/ANCHORFILES/dm3/RefSeqTSS.dm3.txt.gz  \n",
            "   creating: ChromHMM/ANCHORFILES/dm6/\n",
            "  inflating: ChromHMM/ANCHORFILES/dm6/RefSeqTES.dm6.txt.gz  \n",
            "  inflating: ChromHMM/ANCHORFILES/dm6/RefSeqTSS.dm6.txt.gz  \n",
            "   creating: ChromHMM/ANCHORFILES/hg18/\n",
            "  inflating: ChromHMM/ANCHORFILES/hg18/RefSeqTES.hg18.txt.gz  \n",
            "  inflating: ChromHMM/ANCHORFILES/hg18/RefSeqTSS.hg18.txt.gz  \n",
            "   creating: ChromHMM/ANCHORFILES/hg19/\n",
            "  inflating: ChromHMM/ANCHORFILES/hg19/RefSeqTES.hg19.txt.gz  \n",
            "  inflating: ChromHMM/ANCHORFILES/hg19/RefSeqTSS.hg19.txt.gz  \n",
            "   creating: ChromHMM/ANCHORFILES/hg38/\n",
            "  inflating: ChromHMM/ANCHORFILES/hg38/RefSeqTES.hg38.txt.gz  \n",
            "  inflating: ChromHMM/ANCHORFILES/hg38/RefSeqTSS.hg38.txt.gz  \n",
            "   creating: ChromHMM/ANCHORFILES/mm10/\n",
            "  inflating: ChromHMM/ANCHORFILES/mm10/RefSeqTES.mm10.txt.gz  \n",
            "  inflating: ChromHMM/ANCHORFILES/mm10/RefSeqTSS.mm10.txt.gz  \n",
            "   creating: ChromHMM/ANCHORFILES/mm9/\n",
            "  inflating: ChromHMM/ANCHORFILES/mm9/RefSeqTES.mm9.txt.gz  \n",
            "  inflating: ChromHMM/ANCHORFILES/mm9/RefSeqTSS.mm9.txt.gz  \n",
            "   creating: ChromHMM/ANCHORFILES/rn5/\n",
            "  inflating: ChromHMM/ANCHORFILES/rn5/RefSeqTES.rn5.txt.gz  \n",
            "  inflating: ChromHMM/ANCHORFILES/rn5/RefSeqTSS.rn5.txt.gz  \n",
            "   creating: ChromHMM/ANCHORFILES/rn6/\n",
            "  inflating: ChromHMM/ANCHORFILES/rn6/RefSeqTES.rn6.txt.gz  \n",
            "  inflating: ChromHMM/ANCHORFILES/rn6/RefSeqTSS.rn6.txt.gz  \n",
            "  inflating: ChromHMM/ChromHMM.jar   \n",
            "  inflating: ChromHMM/ChromHMM_manual.pdf  \n",
            "   creating: ChromHMM/CHROMSIZES/\n",
            "  inflating: ChromHMM/CHROMSIZES/ce10.txt  \n",
            "  inflating: ChromHMM/CHROMSIZES/ce11.txt  \n",
            "  inflating: ChromHMM/CHROMSIZES/ce6.txt  \n",
            "  inflating: ChromHMM/CHROMSIZES/danRer10.txt  \n",
            "  inflating: ChromHMM/CHROMSIZES/danRer11.txt  \n",
            "  inflating: ChromHMM/CHROMSIZES/danRer7.txt  \n",
            "  inflating: ChromHMM/CHROMSIZES/dm3.txt  \n",
            "  inflating: ChromHMM/CHROMSIZES/dm6.txt  \n",
            "  inflating: ChromHMM/CHROMSIZES/hg18.txt  \n",
            "  inflating: ChromHMM/CHROMSIZES/hg19.txt  \n",
            "  inflating: ChromHMM/CHROMSIZES/hg38.txt  \n",
            "  inflating: ChromHMM/CHROMSIZES/mm10.txt  \n",
            "  inflating: ChromHMM/CHROMSIZES/mm9.txt  \n",
            "  inflating: ChromHMM/CHROMSIZES/rn5.txt  \n",
            "  inflating: ChromHMM/CHROMSIZES/rn6.txt  \n",
            "   creating: ChromHMM/COORDS/\n",
            "   creating: ChromHMM/COORDS/ce10/\n",
            "  inflating: ChromHMM/COORDS/ce10/RefSeqExon.ce10.bed.gz  \n",
            "  inflating: ChromHMM/COORDS/ce10/RefSeqGene.ce10.bed.gz  \n",
            "  inflating: ChromHMM/COORDS/ce10/RefSeqTES.ce10.bed.gz  \n",
            "  inflating: ChromHMM/COORDS/ce10/RefSeqTSS.ce10.bed.gz  \n",
            "  inflating: ChromHMM/COORDS/ce10/RefSeqTSS2kb.ce10.bed.gz  \n",
            "   creating: ChromHMM/COORDS/ce11/\n",
            "  inflating: ChromHMM/COORDS/ce11/RefSeqExon.ce11.bed.gz  \n",
            "  inflating: ChromHMM/COORDS/ce11/RefSeqGene.ce11.bed.gz  \n",
            "  inflating: ChromHMM/COORDS/ce11/RefSeqTES.ce11.bed.gz  \n",
            "  inflating: ChromHMM/COORDS/ce11/RefSeqTSS.ce11.bed.gz  \n",
            "  inflating: ChromHMM/COORDS/ce11/RefSeqTSS2kb.ce11.bed.gz  \n",
            "   creating: ChromHMM/COORDS/ce6/\n",
            "  inflating: ChromHMM/COORDS/ce6/RefSeqExon.ce6.bed.gz  \n",
            "  inflating: ChromHMM/COORDS/ce6/RefSeqGene.ce6.bed.gz  \n",
            "  inflating: ChromHMM/COORDS/ce6/RefSeqTES.ce6.bed.gz  \n",
            "  inflating: ChromHMM/COORDS/ce6/RefSeqTSS.ce6.bed.gz  \n",
            "  inflating: ChromHMM/COORDS/ce6/RefSeqTSS2kb.ce6.bed.gz  \n",
            "   creating: ChromHMM/COORDS/danRer10/\n",
            "  inflating: ChromHMM/COORDS/danRer10/RefSeqExon.danRer10.bed.gz  \n",
            "  inflating: ChromHMM/COORDS/danRer10/RefSeqGene.danRer10.bed.gz  \n",
            "  inflating: ChromHMM/COORDS/danRer10/RefSeqTES.danRer10.bed.gz  \n",
            "  inflating: ChromHMM/COORDS/danRer10/RefSeqTSS.danRer10.bed.gz  \n",
            "  inflating: ChromHMM/COORDS/danRer10/RefSeqTSS2kb.danRer10.bed.gz  \n",
            "   creating: ChromHMM/COORDS/danRer11/\n",
            "  inflating: ChromHMM/COORDS/danRer11/RefSeqExon.danRer11.bed.gz  \n",
            "  inflating: ChromHMM/COORDS/danRer11/RefSeqGene.danRer11.bed.gz  \n",
            "  inflating: ChromHMM/COORDS/danRer11/RefSeqTES.danRer11.bed.gz  \n",
            "  inflating: ChromHMM/COORDS/danRer11/RefSeqTSS.danRer11.bed.gz  \n",
            "  inflating: ChromHMM/COORDS/danRer11/RefSeqTSS2kb.danRer11.bed.gz  \n",
            "   creating: ChromHMM/COORDS/danRer7/\n",
            "  inflating: ChromHMM/COORDS/danRer7/RefSeqExon.danRer7.bed.gz  \n",
            "  inflating: ChromHMM/COORDS/danRer7/RefSeqGene.danRer7.bed.gz  \n",
            "  inflating: ChromHMM/COORDS/danRer7/RefSeqTES.danRer7.bed.gz  \n",
            "  inflating: ChromHMM/COORDS/danRer7/RefSeqTSS.danRer7.bed.gz  \n",
            "  inflating: ChromHMM/COORDS/danRer7/RefSeqTSS2kb.danRer7.bed.gz  \n",
            "   creating: ChromHMM/COORDS/dm3/\n",
            "  inflating: ChromHMM/COORDS/dm3/RefSeqExon.dm3.bed.gz  \n",
            "  inflating: ChromHMM/COORDS/dm3/RefSeqGene.dm3.bed.gz  \n",
            "  inflating: ChromHMM/COORDS/dm3/RefSeqTES.dm3.bed.gz  \n",
            "  inflating: ChromHMM/COORDS/dm3/RefSeqTSS.dm3.bed.gz  \n",
            "  inflating: ChromHMM/COORDS/dm3/RefSeqTSS2kb.dm3.bed.gz  \n",
            "   creating: ChromHMM/COORDS/dm6/\n",
            "  inflating: ChromHMM/COORDS/dm6/RefSeqExon.dm6.bed.gz  \n",
            "  inflating: ChromHMM/COORDS/dm6/RefSeqGene.dm6.bed.gz  \n",
            "  inflating: ChromHMM/COORDS/dm6/RefSeqTES.dm6.bed.gz  \n",
            "  inflating: ChromHMM/COORDS/dm6/RefSeqTSS.dm6.bed.gz  \n",
            "  inflating: ChromHMM/COORDS/dm6/RefSeqTSS2kb.dm6.bed.gz  \n",
            "   creating: ChromHMM/COORDS/hg18/\n",
            "  inflating: ChromHMM/COORDS/hg18/CpGIsland.hg18.bed.gz  \n",
            " extracting: ChromHMM/COORDS/hg18/laminB1lads.hg18.bed.gz  \n",
            "  inflating: ChromHMM/COORDS/hg18/RefSeqExon.hg18.bed.gz  \n",
            "  inflating: ChromHMM/COORDS/hg18/RefSeqGene.hg18.bed.gz  \n",
            "  inflating: ChromHMM/COORDS/hg18/RefSeqTES.hg18.bed.gz  \n",
            "  inflating: ChromHMM/COORDS/hg18/RefSeqTSS.hg18.bed.gz  \n",
            "  inflating: ChromHMM/COORDS/hg18/RefSeqTSS2kb.hg18.bed.gz  \n",
            "   creating: ChromHMM/COORDS/hg19/\n",
            "  inflating: ChromHMM/COORDS/hg19/CpGIsland.hg19.bed.gz  \n",
            " extracting: ChromHMM/COORDS/hg19/laminB1lads.hg19.bed.gz  \n",
            "  inflating: ChromHMM/COORDS/hg19/RefSeqExon.hg19.bed.gz  \n",
            "  inflating: ChromHMM/COORDS/hg19/RefSeqGene.hg19.bed.gz  \n",
            "  inflating: ChromHMM/COORDS/hg19/RefSeqTES.hg19.bed.gz  \n",
            "  inflating: ChromHMM/COORDS/hg19/RefSeqTSS.hg19.bed.gz  \n",
            "  inflating: ChromHMM/COORDS/hg19/RefSeqTSS2kb.hg19.bed.gz  \n",
            "   creating: ChromHMM/COORDS/hg38/\n",
            "  inflating: ChromHMM/COORDS/hg38/CpGIsland.hg38.bed.gz  \n",
            "  inflating: ChromHMM/COORDS/hg38/RefSeqExon.hg38.bed.gz  \n",
            "  inflating: ChromHMM/COORDS/hg38/RefSeqGene.hg38.bed.gz  \n",
            "  inflating: ChromHMM/COORDS/hg38/RefSeqTES.hg38.bed.gz  \n",
            "  inflating: ChromHMM/COORDS/hg38/RefSeqTSS.hg38.bed.gz  \n",
            "  inflating: ChromHMM/COORDS/hg38/RefSeqTSS2kb.hg38.bed.gz  \n",
            "   creating: ChromHMM/COORDS/mm10/\n",
            "  inflating: ChromHMM/COORDS/mm10/CpGIsland.mm10.bed.gz  \n",
            "  inflating: ChromHMM/COORDS/mm10/RefSeqExon.mm10.bed.gz  \n",
            "  inflating: ChromHMM/COORDS/mm10/RefSeqGene.mm10.bed.gz  \n",
            "  inflating: ChromHMM/COORDS/mm10/RefSeqTES.mm10.bed.gz  \n",
            "  inflating: ChromHMM/COORDS/mm10/RefSeqTSS.mm10.bed.gz  \n",
            "  inflating: ChromHMM/COORDS/mm10/RefSeqTSS2kb.mm10.bed.gz  \n",
            "   creating: ChromHMM/COORDS/mm9/\n",
            "  inflating: ChromHMM/COORDS/mm9/CpGIsland.mm9.bed.gz  \n",
            "  inflating: ChromHMM/COORDS/mm9/RefSeqExon.mm9.bed.gz  \n",
            "  inflating: ChromHMM/COORDS/mm9/RefSeqGene.mm9.bed.gz  \n",
            "  inflating: ChromHMM/COORDS/mm9/RefSeqTES.mm9.bed.gz  \n",
            "  inflating: ChromHMM/COORDS/mm9/RefSeqTSS.mm9.bed.gz  \n",
            "  inflating: ChromHMM/COORDS/mm9/RefSeqTSS2kb.mm9.bed.gz  \n",
            "   creating: ChromHMM/COORDS/rn5/\n",
            "  inflating: ChromHMM/COORDS/rn5/CpGIsland.rn5.bed.gz  \n",
            "  inflating: ChromHMM/COORDS/rn5/RefSeqExon.rn5.bed.gz  \n",
            "  inflating: ChromHMM/COORDS/rn5/RefSeqGene.rn5.bed.gz  \n",
            "  inflating: ChromHMM/COORDS/rn5/RefSeqTES.rn5.bed.gz  \n",
            "  inflating: ChromHMM/COORDS/rn5/RefSeqTSS.rn5.bed.gz  \n",
            "  inflating: ChromHMM/COORDS/rn5/RefSeqTSS2kb.rn5.bed.gz  \n",
            "   creating: ChromHMM/COORDS/rn6/\n",
            "  inflating: ChromHMM/COORDS/rn6/CpGIsland.rn6.bed.gz  \n",
            "  inflating: ChromHMM/COORDS/rn6/RefSeqExon.rn6.bed.gz  \n",
            "  inflating: ChromHMM/COORDS/rn6/RefSeqGene.rn6.bed.gz  \n",
            "  inflating: ChromHMM/COORDS/rn6/RefSeqTES.rn6.bed.gz  \n",
            "  inflating: ChromHMM/COORDS/rn6/RefSeqTSS.rn6.bed.gz  \n",
            "  inflating: ChromHMM/COORDS/rn6/RefSeqTSS2kb.rn6.bed.gz  \n",
            "   creating: ChromHMM/SAMPLEDATA_HG18/\n",
            "  inflating: ChromHMM/SAMPLEDATA_HG18/GM12878_chr11_binary.txt.gz  \n",
            "  inflating: ChromHMM/SAMPLEDATA_HG18/K562_chr11_binary.txt.gz  \n",
            "   creating: ChromHMM/SRC/\n",
            "   creating: ChromHMM/SRC/edu/\n",
            "   creating: ChromHMM/SRC/edu/mit/\n",
            "   creating: ChromHMM/SRC/edu/mit/compbio/\n",
            "   creating: ChromHMM/SRC/edu/mit/compbio/ChromHMM/\n",
            "  inflating: ChromHMM/SRC/edu/mit/compbio/ChromHMM/BrowserOutput.java  \n",
            "  inflating: ChromHMM/SRC/edu/mit/compbio/ChromHMM/ChromHMM.java  \n",
            "  inflating: ChromHMM/SRC/edu/mit/compbio/ChromHMM/ConvertGeneTable.java  \n",
            "  inflating: ChromHMM/SRC/edu/mit/compbio/ChromHMM/NestedEliminateInitialize.java  \n",
            "  inflating: ChromHMM/SRC/edu/mit/compbio/ChromHMM/Preprocessing.java  \n",
            "  inflating: ChromHMM/SRC/edu/mit/compbio/ChromHMM/StateAnalysis.java  \n",
            "  inflating: ChromHMM/SRC/edu/mit/compbio/ChromHMM/Util.java  \n",
            "   creating: ChromHMM/SRC/org/\n",
            "   creating: ChromHMM/SRC/org/tc33/\n",
            "   creating: ChromHMM/SRC/org/tc33/jheatchart/\n",
            "  inflating: ChromHMM/SRC/org/tc33/jheatchart/HeatChart.java  \n"
          ]
        }
      ]
    },
    {
      "cell_type": "markdown",
      "source": [
        "## Скачиваем файлы"
      ],
      "metadata": {
        "id": "k80uGrS5quq1"
      }
    },
    {
      "cell_type": "code",
      "source": [
        "!wget http://hgdownload.cse.ucsc.edu/goldenPath/hg19/encodeDCC/wgEncodeBroadHistone/wgEncodeBroadHistoneA549H3k27acDex100nmAlnRep1.bam -O H3k27ac.bam\n",
        "\n",
        "!wget http://hgdownload.cse.ucsc.edu/goldenPath/hg19/encodeDCC/wgEncodeBroadHistone/wgEncodeBroadHistoneA549H3k36me3Dex100nmAlnRep1.bam -O H3k36me3.bam\n",
        "\n",
        "!wget http://hgdownload.cse.ucsc.edu/goldenPath/hg19/encodeDCC/wgEncodeBroadHistone/wgEncodeBroadHistoneA549H3k04me1Dex100nmAlnRep1.bam -O H3k04me1.bam\n",
        "\n",
        "!wget http://hgdownload.cse.ucsc.edu/goldenPath/hg19/encodeDCC/wgEncodeBroadHistone/wgEncodeBroadHistoneA549H3k04me2Dex100nmAlnRep1.bam -O H3k04me2.bam\n",
        "\n",
        "!wget http://hgdownload.cse.ucsc.edu/goldenPath/hg19/encodeDCC/wgEncodeBroadHistone/wgEncodeBroadHistoneA549H3k04me3Dex100nmAlnRep1.bam -O H3k04me3.bam\n",
        "\n",
        "!wget http://hgdownload.cse.ucsc.edu/goldenPath/hg19/encodeDCC/wgEncodeBroadHistone/wgEncodeBroadHistoneA549H3k79me2Dex100nmAlnRep1.bam -O H3k79me2.bam\n",
        "\n",
        "!wget http://hgdownload.cse.ucsc.edu/goldenPath/hg19/encodeDCC/wgEncodeBroadHistone/wgEncodeBroadHistoneA549H3k09acEtoh02AlnRep1.bam -O H3k09ac.bam\n",
        "\n",
        "!wget http://hgdownload.cse.ucsc.edu/goldenPath/hg19/encodeDCC/wgEncodeBroadHistone/wgEncodeBroadHistoneA549H3k09me3Etoh02AlnRep1.bam -O H3k09me3.bam\n",
        "\n",
        "!wget http://hgdownload.cse.ucsc.edu/goldenPath/hg19/encodeDCC/wgEncodeBroadHistone/wgEncodeBroadHistoneA549H2azDex100nmAlnRep1.bam -O H2AFZ.bam\n",
        "\n",
        "!wget http://hgdownload.cse.ucsc.edu/goldenPath/hg19/encodeDCC/wgEncodeBroadHistone/wgEncodeBroadHistoneA549H4k20me1Etoh02AlnRep1.bam -O H4k20me1.bam"
      ],
      "metadata": {
        "colab": {
          "base_uri": "https://localhost:8080/"
        },
        "id": "htpqAUAdCaKR",
        "outputId": "5249fb7c-862c-43c7-c020-2a3dff7ecaf2"
      },
      "execution_count": null,
      "outputs": [
        {
          "output_type": "stream",
          "name": "stdout",
          "text": [
            "--2022-03-26 19:46:52--  http://hgdownload.cse.ucsc.edu/goldenPath/hg19/encodeDCC/wgEncodeBroadHistone/wgEncodeBroadHistoneA549H3k27acDex100nmAlnRep1.bam\n",
            "Resolving hgdownload.cse.ucsc.edu (hgdownload.cse.ucsc.edu)... 128.114.119.163\n",
            "Connecting to hgdownload.cse.ucsc.edu (hgdownload.cse.ucsc.edu)|128.114.119.163|:80... connected.\n",
            "HTTP request sent, awaiting response... 200 OK\n",
            "Length: 1613138298 (1.5G) [application/octet-stream]\n",
            "Saving to: ‘H3k27ac.bam’\n",
            "\n",
            "H3k27ac.bam         100%[===================>]   1.50G  49.7MB/s    in 31s     \n",
            "\n",
            "2022-03-26 19:47:23 (49.1 MB/s) - ‘H3k27ac.bam’ saved [1613138298/1613138298]\n",
            "\n",
            "--2022-03-26 19:47:23--  http://hgdownload.cse.ucsc.edu/goldenPath/hg19/encodeDCC/wgEncodeBroadHistone/wgEncodeBroadHistoneA549H3k36me3Dex100nmAlnRep1.bam\n",
            "Resolving hgdownload.cse.ucsc.edu (hgdownload.cse.ucsc.edu)... 128.114.119.163\n",
            "Connecting to hgdownload.cse.ucsc.edu (hgdownload.cse.ucsc.edu)|128.114.119.163|:80... connected.\n",
            "HTTP request sent, awaiting response... 200 OK\n",
            "Length: 1171206285 (1.1G) [application/octet-stream]\n",
            "Saving to: ‘H3k36me3.bam’\n",
            "\n",
            "H3k36me3.bam        100%[===================>]   1.09G  46.2MB/s    in 27s     \n",
            "\n",
            "2022-03-26 19:47:51 (41.4 MB/s) - ‘H3k36me3.bam’ saved [1171206285/1171206285]\n",
            "\n",
            "--2022-03-26 19:47:51--  http://hgdownload.cse.ucsc.edu/goldenPath/hg19/encodeDCC/wgEncodeBroadHistone/wgEncodeBroadHistoneA549H3k04me1Dex100nmAlnRep1.bam\n",
            "Resolving hgdownload.cse.ucsc.edu (hgdownload.cse.ucsc.edu)... 128.114.119.163\n",
            "Connecting to hgdownload.cse.ucsc.edu (hgdownload.cse.ucsc.edu)|128.114.119.163|:80... connected.\n",
            "HTTP request sent, awaiting response... 200 OK\n",
            "Length: 1457394253 (1.4G) [application/octet-stream]\n",
            "Saving to: ‘H3k04me1.bam’\n",
            "\n",
            "H3k04me1.bam        100%[===================>]   1.36G  44.8MB/s    in 32s     \n",
            "\n",
            "2022-03-26 19:48:22 (43.9 MB/s) - ‘H3k04me1.bam’ saved [1457394253/1457394253]\n",
            "\n",
            "--2022-03-26 19:48:22--  http://hgdownload.cse.ucsc.edu/goldenPath/hg19/encodeDCC/wgEncodeBroadHistone/wgEncodeBroadHistoneA549H3k04me2Dex100nmAlnRep1.bam\n",
            "Resolving hgdownload.cse.ucsc.edu (hgdownload.cse.ucsc.edu)... 128.114.119.163\n",
            "Connecting to hgdownload.cse.ucsc.edu (hgdownload.cse.ucsc.edu)|128.114.119.163|:80... connected.\n",
            "HTTP request sent, awaiting response... 200 OK\n",
            "Length: 1087535456 (1.0G) [application/octet-stream]\n",
            "Saving to: ‘H3k04me2.bam’\n",
            "\n",
            "H3k04me2.bam        100%[===================>]   1.01G  47.7MB/s    in 22s     \n",
            "\n",
            "2022-03-26 19:48:45 (46.1 MB/s) - ‘H3k04me2.bam’ saved [1087535456/1087535456]\n",
            "\n",
            "--2022-03-26 19:48:45--  http://hgdownload.cse.ucsc.edu/goldenPath/hg19/encodeDCC/wgEncodeBroadHistone/wgEncodeBroadHistoneA549H3k04me3Dex100nmAlnRep1.bam\n",
            "Resolving hgdownload.cse.ucsc.edu (hgdownload.cse.ucsc.edu)... 128.114.119.163\n",
            "Connecting to hgdownload.cse.ucsc.edu (hgdownload.cse.ucsc.edu)|128.114.119.163|:80... connected.\n",
            "HTTP request sent, awaiting response... 200 OK\n",
            "Length: 1107774312 (1.0G) [application/octet-stream]\n",
            "Saving to: ‘H3k04me3.bam’\n",
            "\n",
            "H3k04me3.bam        100%[===================>]   1.03G  50.4MB/s    in 22s     \n",
            "\n",
            "2022-03-26 19:49:07 (48.8 MB/s) - ‘H3k04me3.bam’ saved [1107774312/1107774312]\n",
            "\n",
            "--2022-03-26 19:49:07--  http://hgdownload.cse.ucsc.edu/goldenPath/hg19/encodeDCC/wgEncodeBroadHistone/wgEncodeBroadHistoneA549H3k79me2Dex100nmAlnRep1.bam\n",
            "Resolving hgdownload.cse.ucsc.edu (hgdownload.cse.ucsc.edu)... 128.114.119.163\n",
            "Connecting to hgdownload.cse.ucsc.edu (hgdownload.cse.ucsc.edu)|128.114.119.163|:80... connected.\n",
            "HTTP request sent, awaiting response... 200 OK\n",
            "Length: 964729136 (920M) [application/octet-stream]\n",
            "Saving to: ‘H3k79me2.bam’\n",
            "\n",
            "H3k79me2.bam        100%[===================>] 920.04M  50.7MB/s    in 19s     \n",
            "\n",
            "2022-03-26 19:49:27 (48.7 MB/s) - ‘H3k79me2.bam’ saved [964729136/964729136]\n",
            "\n",
            "--2022-03-26 19:49:27--  http://hgdownload.cse.ucsc.edu/goldenPath/hg19/encodeDCC/wgEncodeBroadHistone/wgEncodeBroadHistoneA549H3k09acEtoh02AlnRep1.bam\n",
            "Resolving hgdownload.cse.ucsc.edu (hgdownload.cse.ucsc.edu)... 128.114.119.163\n",
            "Connecting to hgdownload.cse.ucsc.edu (hgdownload.cse.ucsc.edu)|128.114.119.163|:80... connected.\n",
            "HTTP request sent, awaiting response... 200 OK\n",
            "Length: 1805271664 (1.7G) [application/octet-stream]\n",
            "Saving to: ‘H3k09ac.bam’\n",
            "\n",
            "H3k09ac.bam         100%[===================>]   1.68G  49.6MB/s    in 35s     \n",
            "\n",
            "2022-03-26 19:50:03 (48.9 MB/s) - ‘H3k09ac.bam’ saved [1805271664/1805271664]\n",
            "\n",
            "--2022-03-26 19:50:03--  http://hgdownload.cse.ucsc.edu/goldenPath/hg19/encodeDCC/wgEncodeBroadHistone/wgEncodeBroadHistoneA549H3k09me3Etoh02AlnRep1.bam\n",
            "Resolving hgdownload.cse.ucsc.edu (hgdownload.cse.ucsc.edu)... 128.114.119.163\n",
            "Connecting to hgdownload.cse.ucsc.edu (hgdownload.cse.ucsc.edu)|128.114.119.163|:80... connected.\n",
            "HTTP request sent, awaiting response... 200 OK\n",
            "Length: 3159610200 (2.9G) [application/octet-stream]\n",
            "Saving to: ‘H3k09me3.bam’\n",
            "\n",
            "H3k09me3.bam        100%[===================>]   2.94G  47.5MB/s    in 65s     \n",
            "\n",
            "2022-03-26 19:51:09 (46.1 MB/s) - ‘H3k09me3.bam’ saved [3159610200/3159610200]\n",
            "\n",
            "--2022-03-26 19:51:09--  http://hgdownload.cse.ucsc.edu/goldenPath/hg19/encodeDCC/wgEncodeBroadHistone/wgEncodeBroadHistoneA549H2azDex100nmAlnRep1.bam\n",
            "Resolving hgdownload.cse.ucsc.edu (hgdownload.cse.ucsc.edu)... 128.114.119.163\n",
            "Connecting to hgdownload.cse.ucsc.edu (hgdownload.cse.ucsc.edu)|128.114.119.163|:80... connected.\n",
            "HTTP request sent, awaiting response... 200 OK\n",
            "Length: 2009250335 (1.9G) [application/octet-stream]\n",
            "Saving to: ‘H2AFZ.bam’\n",
            "\n",
            "H2AFZ.bam           100%[===================>]   1.87G  47.8MB/s    in 40s     \n",
            "\n",
            "2022-03-26 19:51:49 (47.6 MB/s) - ‘H2AFZ.bam’ saved [2009250335/2009250335]\n",
            "\n",
            "--2022-03-26 19:51:49--  http://hgdownload.cse.ucsc.edu/goldenPath/hg19/encodeDCC/wgEncodeBroadHistone/wgEncodeBroadHistoneA549H4k20me1Etoh02AlnRep1.bam\n",
            "Resolving hgdownload.cse.ucsc.edu (hgdownload.cse.ucsc.edu)... 128.114.119.163\n",
            "Connecting to hgdownload.cse.ucsc.edu (hgdownload.cse.ucsc.edu)|128.114.119.163|:80... connected.\n",
            "HTTP request sent, awaiting response... 200 OK\n",
            "Length: 1494698977 (1.4G) [application/octet-stream]\n",
            "Saving to: ‘H4k20me1.bam’\n",
            "\n",
            "H4k20me1.bam        100%[===================>]   1.39G  18.1MB/s    in 55s     \n",
            "\n",
            "2022-03-26 19:52:44 (26.0 MB/s) - ‘H4k20me1.bam’ saved [1494698977/1494698977]\n",
            "\n"
          ]
        }
      ]
    },
    {
      "cell_type": "code",
      "source": [
        "! wget http://hgdownload.cse.ucsc.edu/goldenPath/hg19/encodeDCC/wgEncodeBroadHistone/wgEncodeBroadHistoneA549ControlDex100nmAlnRep1.bam -O control.bam"
      ],
      "metadata": {
        "id": "PSWbbv8wcFUY",
        "colab": {
          "base_uri": "https://localhost:8080/"
        },
        "outputId": "caab42a1-7f7c-42c1-b522-39eb7a55a784"
      },
      "execution_count": null,
      "outputs": [
        {
          "output_type": "stream",
          "name": "stdout",
          "text": [
            "--2022-03-26 19:52:49--  http://hgdownload.cse.ucsc.edu/goldenPath/hg19/encodeDCC/wgEncodeBroadHistone/wgEncodeBroadHistoneA549ControlDex100nmAlnRep1.bam\n",
            "Resolving hgdownload.cse.ucsc.edu (hgdownload.cse.ucsc.edu)... 128.114.119.163\n",
            "Connecting to hgdownload.cse.ucsc.edu (hgdownload.cse.ucsc.edu)|128.114.119.163|:80... connected.\n",
            "HTTP request sent, awaiting response... 200 OK\n",
            "Length: 1331192042 (1.2G) [application/octet-stream]\n",
            "Saving to: ‘control.bam’\n",
            "\n",
            "control.bam         100%[===================>]   1.24G  47.2MB/s    in 27s     \n",
            "\n",
            "2022-03-26 19:53:17 (46.7 MB/s) - ‘control.bam’ saved [1331192042/1331192042]\n",
            "\n"
          ]
        }
      ]
    },
    {
      "cell_type": "markdown",
      "source": [
        "* Вручную создаем текстовый файл cellmarkfiletable.txt, в котором указываем название типа клеток, разных гистоновых меток, а также соответствующие .bam файлы для эксперимента и контроля. Один и тот же контрольный файл .bam может быть использован для всех экспериментов.\n",
        "\n",
        "* Более подробно о содержании файла cellmarkfiletable.txt можно посмотреть в руководстве пользователя ChromHMM\n",
        "\n",
        "* Файл cellmarkfiletable.txt добавляем в github репозиторий для отчета"
      ],
      "metadata": {
        "id": "asjMJ26h79SY"
      }
    },
    {
      "cell_type": "code",
      "source": [
        "!touch cellmarkfiletable.txt"
      ],
      "metadata": {
        "id": "Fxs7qBDxF8ZG"
      },
      "execution_count": null,
      "outputs": []
    },
    {
      "cell_type": "code",
      "source": [
        "import os\n",
        "\n",
        "with open(f'cellmarkfiletable.txt', 'a') as cell:\n",
        "    cell.write(f'A549\\tH3k27ac\\tH3k27ac.bam\\tcontrol.bam\\n')\n",
        "    cell.write(f'A549\\tH3k36me3\\tH3k36me3.bam\\tcontrol.bam\\n')\n",
        "    cell.write(f'A549\\tH3k04me1\\tH3k04me1.bam\\tcontrol.bam\\n')\n",
        "    cell.write(f'A549\\tH3k04me2\\tH3k04me2.bam\\tcontrol.bam\\n')\n",
        "    cell.write(f'A549\\tH3k04me3\\tH3k04me3.bam\\tcontrol.bam\\n')\n",
        "    cell.write(f'A549\\tH3k79me2\\tH3k79me2.bam\\tcontrol.bam\\n')\n",
        "    cell.write(f'A549\\tH3k09ac\\tH3k09ac.bam\\tcontrol.bam\\n')\n",
        "    cell.write(f'A549\\tH3k09me3\\tH3k09me3.bam\\tcontrol.bam\\n')\n",
        "    cell.write(f'A549\\tH2AFZ\\tH2AFZ.bam\\tcontrol.bam\\n')\n",
        "    cell.write(f'A549\\tH4k20me1\\tH4k20me1.bam\\tcontrol.bam\\n')\n"
      ],
      "metadata": {
        "id": "NdhTOXY8RSTM"
      },
      "execution_count": null,
      "outputs": []
    },
    {
      "cell_type": "code",
      "source": [
        "! cat cellmarkfiletable.txt"
      ],
      "metadata": {
        "colab": {
          "base_uri": "https://localhost:8080/"
        },
        "id": "_FzeB8gsHbIR",
        "outputId": "6df19f93-2412-4db1-96ab-fbef8f32dbfb"
      },
      "execution_count": null,
      "outputs": [
        {
          "output_type": "stream",
          "name": "stdout",
          "text": [
            "A549\tH3k27ac\tH3k27ac.bam\tcontrol.bam\n",
            "A549\tH3k36me3\tH3k36me3.bam\tcontrol.bam\n",
            "A549\tH3k04me1\tH3k04me1.bam\tcontrol.bam\n",
            "A549\tH3k04me2\tH3k04me2.bam\tcontrol.bam\n",
            "A549\tH3k04me3\tH3k04me3.bam\tcontrol.bam\n",
            "A549\tH3k79me2\tH3k79me2.bam\tcontrol.bam\n",
            "A549\tH3k09ac\tH3k09ac.bam\tcontrol.bam\n",
            "A549\tH3k09me3\tH3k09me3.bam\tcontrol.bam\n",
            "A549\tH2AFZ\tH2AFZ.bam\tcontrol.bam\n",
            "A549\tH4k20me1\tH4k20me1.bam\tcontrol.bam\n"
          ]
        }
      ]
    },
    {
      "cell_type": "markdown",
      "source": [
        "Запускаем ChromHMM с опцией BinarizeBam, чтобы конвертировать профили из ChIP-seq экспериментов (bam-файлы) в табличку из 0 и 1, т.е. чтобы сделать разбивку генома на условные интервалы (бины) длиной 200 п.о.\n",
        "Для 11 меток программа работает около 5 мин\n"
      ],
      "metadata": {
        "id": "WeoRL3rp728b"
      }
    },
    {
      "cell_type": "code",
      "source": [
        "!java -mx5000M -jar /content/ChromHMM/ChromHMM.jar BinarizeBam -b 200 /content/ChromHMM/CHROMSIZES/hg19.txt /content/ cellmarkfiletable.txt binarizedData"
      ],
      "metadata": {
        "colab": {
          "base_uri": "https://localhost:8080/"
        },
        "id": "GcVBvuQZfzb8",
        "outputId": "a1a9cbbd-4b50-4c83-fd4c-ead6ca540bdc"
      },
      "execution_count": null,
      "outputs": [
        {
          "output_type": "stream",
          "name": "stdout",
          "text": [
            "Writing to file binarizedData/A549_chr1_binary.txt\n",
            "Writing to file binarizedData/A549_chr2_binary.txt\n",
            "Writing to file binarizedData/A549_chr3_binary.txt\n",
            "Writing to file binarizedData/A549_chr4_binary.txt\n",
            "Writing to file binarizedData/A549_chr5_binary.txt\n",
            "Writing to file binarizedData/A549_chr6_binary.txt\n",
            "Writing to file binarizedData/A549_chr7_binary.txt\n",
            "Writing to file binarizedData/A549_chrX_binary.txt\n",
            "Writing to file binarizedData/A549_chr8_binary.txt\n",
            "Writing to file binarizedData/A549_chr9_binary.txt\n",
            "Writing to file binarizedData/A549_chr10_binary.txt\n",
            "Writing to file binarizedData/A549_chr11_binary.txt\n",
            "Writing to file binarizedData/A549_chr12_binary.txt\n",
            "Writing to file binarizedData/A549_chr13_binary.txt\n",
            "Writing to file binarizedData/A549_chr14_binary.txt\n",
            "Writing to file binarizedData/A549_chr15_binary.txt\n",
            "Writing to file binarizedData/A549_chr16_binary.txt\n",
            "Writing to file binarizedData/A549_chr17_binary.txt\n",
            "Writing to file binarizedData/A549_chr18_binary.txt\n",
            "Writing to file binarizedData/A549_chr20_binary.txt\n",
            "Writing to file binarizedData/A549_chrY_binary.txt\n",
            "Writing to file binarizedData/A549_chr19_binary.txt\n",
            "Writing to file binarizedData/A549_chr22_binary.txt\n",
            "Writing to file binarizedData/A549_chr21_binary.txt\n",
            "Writing to file binarizedData/A549_chrM_binary.txt\n"
          ]
        }
      ]
    },
    {
      "cell_type": "markdown",
      "source": [
        "Запускаем ChromHMM с опцией LearnModel (см. руководство пользователя), которая автоматически определит параметры N разных эпигенетических типов с наиболее выраженными наборами гистоновых меток и присвоит каждому геномному интервалу определенный эпигенетический тип. Количество разных эпигенетических типов (или состояний) выбираете сами (например 10 штук).\n",
        "Не забудьте, что мы работаем с версией референсного генома человека hg19\n",
        "Для 11 меток программа работает около 10 минут\n"
      ],
      "metadata": {
        "id": "Yo11TtNG8SXU"
      }
    },
    {
      "cell_type": "code",
      "source": [
        "!java -mx5000M -jar /content/ChromHMM/ChromHMM.jar LearnModel -b 200 /content/binarizedData/ /content/data 10 hg19"
      ],
      "metadata": {
        "colab": {
          "base_uri": "https://localhost:8080/"
        },
        "id": "AJcFdupvogYN",
        "outputId": "25ac8ee2-eae0-47f6-85cd-1738f0bf21e6"
      },
      "execution_count": null,
      "outputs": [
        {
          "output_type": "stream",
          "name": "stdout",
          "text": [
            "Writing to file /content/data/transitions_10.txt\n",
            "Writing to file /content/data/emissions_10.txt\n",
            "Writing to file /content/data/emissions_10.svg\n",
            "Writing to file /content/data/emissions_10.png\n",
            "Writing to file /content/data/transitions_10.png\n",
            "Writing to file /content/data/transitions_10.svg\n",
            "Writing to file /content/data/model_10.txt\n",
            " Iteration  Estimated Log Likelihood     Change    Total Time (secs)\n",
            "         1             -11631781.288          -                 19.5\n",
            "         2              -9820285.199 1811496.089                 32.8\n",
            "         3              -9384760.441 435524.758                 43.4\n",
            "         4              -9212751.804 172008.637                 53.3\n",
            "         5              -9147085.098  65666.706                 63.2\n",
            "         6              -9118121.394  28963.704                 76.6\n",
            "         7              -9099286.945  18834.449                 86.6\n",
            "         8              -9076303.275  22983.670                 97.1\n",
            "         9              -9042364.114  33939.161                106.9\n",
            "        10              -9015148.332  27215.781                116.8\n",
            "        11              -9003254.154  11894.178                126.8\n",
            "        12              -8998269.916   4984.237                136.7\n",
            "        13              -8996074.396   2195.520                146.5\n",
            "        14              -8995063.072   1011.324                156.3\n",
            "        15              -8994560.226    502.846                166.1\n",
            "        16              -8994288.521    271.705                175.8\n",
            "        17              -8994128.894    159.628                185.5\n",
            "        18              -8994026.015    102.879                195.2\n",
            "        19              -8993952.374     73.641                204.8\n",
            "        20              -8993893.791     58.583                217.0\n",
            "        21              -8993843.060     50.731                228.4\n",
            "        22              -8993795.958     47.102                239.6\n",
            "        23              -8993748.873     47.084                250.8\n",
            "        24              -8993698.486     50.387                261.9\n",
            "        25              -8993641.665     56.821                272.9\n",
            "        26              -8993573.490     68.175                284.0\n",
            "        27              -8993484.236     89.255                295.0\n",
            "        28              -8993344.832    139.403                306.0\n",
            "        29              -8993101.795    243.038                317.0\n",
            "        30              -8992698.688    403.107                328.5\n",
            "        31              -8992026.508    672.180                339.9\n",
            "        32              -8990941.307   1085.201                351.3\n",
            "        33              -8989560.833   1380.474                362.6\n",
            "        34              -8988139.183   1421.650                373.9\n",
            "        35              -8986923.214   1215.969                385.0\n",
            "        36              -8985995.885    927.329                396.0\n",
            "        37              -8985288.433    707.452                406.9\n",
            "        38              -8984739.192    549.241                418.0\n",
            "        39              -8984301.246    437.946                429.3\n",
            "        40              -8983939.067    362.180                441.1\n",
            "        41              -8983625.809    313.258                454.1\n",
            "        42              -8983341.014    284.795                466.3\n",
            "        43              -8983069.279    271.735                478.3\n",
            "        44              -8982798.738    270.541                490.3\n",
            "        45              -8982520.072    278.666                501.6\n",
            "        46              -8982223.260    296.812                512.8\n",
            "        47              -8981883.323    339.937                523.9\n",
            "        48              -8981441.732    441.591                535.1\n",
            "        49              -8980821.682    620.050                546.4\n",
            "        50              -8979959.041    862.641                557.8\n",
            "        51              -8978929.856   1029.185                569.3\n",
            "        52              -8977797.086   1132.770                580.9\n",
            "        53              -8976146.787   1650.299                592.5\n",
            "        54              -8973364.421   2782.366                604.3\n",
            "        55              -8970585.702   2778.719                615.6\n",
            "        56              -8969644.389    941.313                627.3\n",
            "        57              -8969409.667    234.722                638.5\n",
            "        58              -8969321.672     87.996                649.6\n",
            "        59              -8969281.689     39.982                660.8\n",
            "        60              -8969261.384     20.305                672.1\n",
            "        61              -8969250.257     11.127                687.7\n",
            "        62              -8969243.813      6.444                699.9\n",
            "        63              -8969239.916      3.897                711.4\n",
            "        64              -8969237.456      2.460                723.3\n",
            "        65              -8969235.879      1.577                735.0\n",
            "        66              -8969234.834      1.044                749.3\n",
            "        67              -8969234.124      0.710                760.2\n",
            "        68              -8969233.629      0.495                770.7\n",
            "        69              -8969233.279      0.350                781.2\n",
            "        70              -8969233.026      0.253                791.9\n",
            "        71              -8969232.842      0.184                802.2\n",
            "        72              -8969232.706      0.136                812.6\n",
            "        73              -8969232.605      0.101                822.9\n",
            "        74              -8969232.529      0.076                833.3\n",
            "        75              -8969232.472      0.057                843.6\n",
            "        76              -8969232.429      0.044                854.0\n",
            "        77              -8969232.395      0.033                864.5\n",
            "        78              -8969232.370      0.026                874.9\n",
            "        79              -8969232.350      0.019                885.3\n",
            "        80              -8969232.335      0.015                895.5\n",
            "        81              -8969232.324      0.011                905.9\n",
            "        82              -8969232.314      0.009                916.3\n",
            "        83              -8969232.307      0.007                926.7\n",
            "        84              -8969232.302      0.006                936.9\n",
            "        85              -8969232.297      0.005                947.2\n",
            "        86              -8969232.294      0.003                957.4\n",
            "        87              -8969232.291      0.003                967.6\n",
            "        88              -8969232.289      0.002                977.8\n",
            "        89              -8969232.287      0.002                988.2\n",
            "        90              -8969232.285      0.002                998.6\n",
            "        91              -8969232.284      0.001               1008.9\n",
            "        92              -8969232.283      0.001               1024.4\n",
            "        93              -8969232.282      0.001               1036.3\n",
            "Writing to file /content/data/A549_10_segments.bed\n",
            "Writing to file /content/data/A549_10_dense.bed\n",
            "Writing to file /content/data/A549_10_expanded.bed\n",
            "Writing to file /content/data/A549_10_overlap.txt\n",
            "Writing to file /content/data/A549_10_overlap.png\n",
            "Writing to file /content/data/A549_10_overlap.svg\n",
            "Writing to file /content/data/A549_10_RefSeqTES_neighborhood.txt\n",
            "Writing to file /content/data/A549_10_RefSeqTES_neighborhood.png\n",
            "Writing to file /content/data/A549_10_RefSeqTES_neighborhood.svg\n",
            "Writing to file /content/data/A549_10_RefSeqTSS_neighborhood.txt\n",
            "Writing to file /content/data/A549_10_RefSeqTSS_neighborhood.png\n",
            "Writing to file /content/data/A549_10_RefSeqTSS_neighborhood.svg\n",
            "Warning could not automatically open in a browser /content/data/webpage_10.html\n"
          ]
        }
      ]
    },
    {
      "cell_type": "markdown",
      "source": [
        "В результате выполнения команды LearnModel будет создан набор файлов (в том числе HTML страничка) в папке выдачи, которая была указана при запуске. Скачиваем эту папку себе на копьютер и открываем HTML файл."
      ],
      "metadata": {
        "id": "7yuCmmw-gsFC"
      }
    },
    {
      "cell_type": "code",
      "source": [
        "!zip -r data.zip /content/data"
      ],
      "metadata": {
        "colab": {
          "base_uri": "https://localhost:8080/"
        },
        "id": "h8ci3Jy1WC-5",
        "outputId": "6bc25cf0-9f73-48a0-988b-4d1f322fbbb6"
      },
      "execution_count": null,
      "outputs": [
        {
          "output_type": "stream",
          "name": "stdout",
          "text": [
            "  adding: content/data/ (stored 0%)\n",
            "  adding: content/data/A549_10_RefSeqTES_neighborhood.png (deflated 36%)\n",
            "  adding: content/data/A549_10_RefSeqTES_neighborhood.svg (deflated 73%)\n",
            "  adding: content/data/A549_10_RefSeqTSS_neighborhood.svg (deflated 73%)\n",
            "  adding: content/data/transitions_10.png (deflated 18%)\n",
            "  adding: content/data/emissions_10.txt (deflated 49%)\n",
            "  adding: content/data/A549_10_segments.bed (deflated 79%)\n",
            "  adding: content/data/A549_10_overlap.txt (deflated 48%)\n",
            "  adding: content/data/model_10.txt (deflated 71%)\n",
            "  adding: content/data/transitions_10.svg (deflated 68%)\n",
            "  adding: content/data/A549_10_RefSeqTES_neighborhood.txt (deflated 56%)\n",
            "  adding: content/data/webpage_10.html (deflated 71%)\n",
            "  adding: content/data/emissions_10.png (deflated 19%)\n",
            "  adding: content/data/A549_10_overlap.svg (deflated 70%)\n",
            "  adding: content/data/transitions_10.txt (deflated 49%)\n",
            "  adding: content/data/A549_10_overlap.png (deflated 19%)\n",
            "  adding: content/data/A549_10_RefSeqTSS_neighborhood.txt (deflated 52%)\n",
            "  adding: content/data/emissions_10.svg (deflated 72%)\n",
            "  adding: content/data/A549_10_RefSeqTSS_neighborhood.png (deflated 32%)\n",
            "  adding: content/data/A549_10_expanded.bed (deflated 71%)\n",
            "  adding: content/data/A549_10_dense.bed (deflated 84%)\n"
          ]
        }
      ]
    }
  ]
}